{
  "cells": [
    {
      "cell_type": "markdown",
      "metadata": {
        "id": "view-in-github",
        "colab_type": "text"
      },
      "source": [
        "<a href=\"https://colab.research.google.com/github/congruent352/ai-training-series/blob/main/HW2.ipynb\" target=\"_parent\"><img src=\"https://colab.research.google.com/assets/colab-badge.svg\" alt=\"Open In Colab\"/></a>"
      ]
    },
    {
      "cell_type": "code",
      "execution_count": 1,
      "metadata": {
        "id": "662a93d1"
      },
      "outputs": [],
      "source": [
        "%load_ext autoreload\n",
        "%autoreload 2"
      ],
      "id": "662a93d1"
    },
    {
      "cell_type": "code",
      "execution_count": 2,
      "metadata": {
        "colab": {
          "base_uri": "https://localhost:8080/"
        },
        "id": "e19878bb",
        "outputId": "c47fe6a5-4aa6-4ff3-b064-0f332b73ec69"
      },
      "outputs": [
        {
          "output_type": "stream",
          "name": "stdout",
          "text": [
            "fatal: destination path 'ai-science-training-series' already exists and is not an empty directory.\n",
            "/content/ai-science-training-series/02_neural_networks_python\n",
            "/content\n"
          ]
        }
      ],
      "source": [
        "%matplotlib inline\n",
        "!git clone https://github.com/argonne-lcf/ai-science-training-series.git\n",
        "%cd ai-science-training-series/02_neural_networks_python/\n",
        "from fc_net import TwoLayerNet\n",
        "%cd -\n",
        "import tensorflow as tf\n",
        "\n",
        "tf.random.set_seed(12345)\n",
        "\n",
        "import numpy\n",
        "import matplotlib.pyplot as plt"
      ],
      "id": "e19878bb"
    },
    {
      "cell_type": "code",
      "execution_count": 3,
      "metadata": {
        "colab": {
          "base_uri": "https://localhost:8080/"
        },
        "id": "da412dba",
        "outputId": "5cbac585-e0e1-4c50-9b6f-e26f2739979f"
      },
      "outputs": [
        {
          "output_type": "stream",
          "name": "stdout",
          "text": [
            "(60000, 28, 28)\n",
            "(60000, 784)\n",
            "\n",
            "MNIST data loaded: train: 60000 test: 10000\n",
            "X_train: (60000, 784)\n",
            "y_train: (60000,)\n"
          ]
        }
      ],
      "source": [
        "# repeating the data prep from the previous notebook\n",
        "(x_train, y_train), (x_test, y_test) = tf.keras.datasets.mnist.load_data()\n",
        "x_train = x_train.astype(numpy.float32)\n",
        "x_test  = x_test.astype(numpy.float32)\n",
        "\n",
        "x_train /= 255.\n",
        "x_test  /= 255.\n",
        "\n",
        "print(x_train.shape)\n",
        "x_train = x_train.reshape(x_train.shape[0], numpy.prod(x_train[0,:,:].shape))\n",
        "x_test = x_test.reshape(x_test.shape[0], numpy.prod(x_test[0,:,:].shape))\n",
        "\n",
        "print(x_train.shape)\n",
        "y_train = y_train.astype(numpy.int32)\n",
        "y_test  = y_test.astype(numpy.int32)\n",
        "\n",
        "print()\n",
        "print('MNIST data loaded: train:',len(x_train),'test:',len(x_test))\n",
        "print('X_train:', x_train.shape)\n",
        "print('y_train:', y_train.shape)\n",
        "\n",
        "# one-hot encoding:\n",
        "nb_classes = 10\n",
        "y_train_onehot = tf.keras.utils.to_categorical(y_train, nb_classes)\n",
        "y_test_onehot = tf.keras.utils.to_categorical(y_test, nb_classes)"
      ],
      "id": "da412dba"
    },
    {
      "cell_type": "code",
      "execution_count": 4,
      "metadata": {
        "id": "4e00e3de"
      },
      "outputs": [],
      "source": [
        "num_features = x_train.shape[1] # this is the number of pixels\n",
        "# The weights are initialized from a normal distribution with standard deviation weight_scale\n",
        "model = TwoLayerNet(input_dim=num_features, hidden_dim=300, num_classes=nb_classes, weight_scale=.01)"
      ],
      "id": "4e00e3de"
    },
    {
      "cell_type": "code",
      "execution_count": 5,
      "metadata": {
        "id": "32f7f1aa"
      },
      "outputs": [],
      "source": [
        "# here you can take a look if you want at the initial loss from an untrained network\n",
        "loss, gradients = model.loss(x_train, y_train_onehot)"
      ],
      "id": "32f7f1aa"
    },
    {
      "cell_type": "code",
      "execution_count": 6,
      "metadata": {
        "id": "c43e3aa5"
      },
      "outputs": [],
      "source": [
        "# a simple implementation of stochastic gradient descent\n",
        "def sgd(model, gradients, learning_rate):\n",
        "    for p, w in model.params.items():\n",
        "        dw = gradients[p]\n",
        "        new_weights = w - learning_rate * dw\n",
        "        model.params[p] = new_weights\n",
        "    return model"
      ],
      "id": "c43e3aa5"
    },
    {
      "cell_type": "code",
      "execution_count": 7,
      "metadata": {
        "id": "c8316228"
      },
      "outputs": [],
      "source": [
        "# one training step\n",
        "def learn(model, x_train, y_train_onehot, learning_rate):\n",
        "    loss, gradients = model.loss(x_train, y_train_onehot)\n",
        "    model = sgd(model, gradients, learning_rate)\n",
        "    return loss, model"
      ],
      "id": "c8316228"
    },
    {
      "cell_type": "code",
      "execution_count": 8,
      "metadata": {
        "id": "81886e8c"
      },
      "outputs": [],
      "source": [
        "def accuracy(model, x, true_values):\n",
        "    scores = model.loss(x)\n",
        "    predictions = numpy.argmax(scores, axis=1)\n",
        "    N = predictions.shape[0]\n",
        "    acc = (true_values == predictions).sum() / N\n",
        "    return acc"
      ],
      "id": "81886e8c"
    },
    {
      "cell_type": "code",
      "execution_count": 9,
      "metadata": {
        "colab": {
          "base_uri": "https://localhost:8080/",
          "height": 456
        },
        "id": "49754891",
        "outputId": "143c83a1-3232-41cc-fcb4-b5b16fb74162"
      },
      "outputs": [
        {
          "output_type": "stream",
          "name": "stdout",
          "text": [
            "epoch 0, loss 2.30018, accuracy 0.14\n",
            "epoch 1, loss 2.29858, accuracy 0.17\n",
            "epoch 2, loss 2.29665, accuracy 0.21\n",
            "epoch 3, loss 2.29504, accuracy 0.25\n",
            "epoch 4, loss 2.29341, accuracy 0.29\n",
            "epoch 5, loss 2.29152, accuracy 0.34\n",
            "epoch 6, loss 2.28987, accuracy 0.38\n",
            "epoch 7, loss 2.28784, accuracy 0.42\n",
            "epoch 8, loss 2.28596, accuracy 0.45\n",
            "epoch 9, loss 2.28378, accuracy 0.48\n"
          ]
        },
        {
          "output_type": "execute_result",
          "data": {
            "text/plain": [
              "[<matplotlib.lines.Line2D at 0x7fdc0d9e2e10>]"
            ]
          },
          "metadata": {},
          "execution_count": 9
        },
        {
          "output_type": "display_data",
          "data": {
            "text/plain": [
              "<Figure size 432x288 with 1 Axes>"
            ],
            "image/png": "[encoded data removed]"
          },
          "metadata": {
            "needs_background": "light"
          }
        }
      ],
      "source": [
        "# Here's an example training loop using this two-layer model. Can you do better? \n",
        "learning_rate = 0.01  \n",
        "num_examples = x_train.shape[0]\n",
        "batch_size = 10000\n",
        "num_batches = int(num_examples / batch_size)\n",
        "num_epochs = 10\n",
        "losses = numpy.zeros(num_batches*num_epochs,)\n",
        "indices = numpy.arange(num_examples)\n",
        "\n",
        "i = 0\n",
        "for epoch in range(0, num_epochs):\n",
        "    # in each epoch, we loop over all of the training examples\n",
        "    for step in range(0, num_batches):\n",
        "        # grabbing the next batch\n",
        "        offset = step * batch_size\n",
        "        batch_range = range(offset, offset+batch_size)\n",
        "        x_train_batch = x_train[batch_range, :]\n",
        "        y_train_batch = y_train_onehot[batch_range,:]\n",
        "        \n",
        "        # feed the next batch in to do one sgd step\n",
        "        loss, model = learn(model, x_train_batch, y_train_batch, learning_rate)\n",
        "        losses[i] = loss\n",
        "        i += 1\n",
        "\n",
        "    acc = accuracy(model, x_train, y_train)\n",
        "    print(\"epoch %d, loss %.5f, accuracy %.2f\" % (epoch, loss, acc))\n",
        "    \n",
        "    # reshuffle the data so that we get a new set of batches\n",
        "    numpy.random.shuffle(indices)\n",
        "    x_train = x_train[indices,:]\n",
        "    y_train = y_train[indices] # keep this shuffled the same way for use in accuracy calculation\n",
        "    y_train_onehot = y_train_onehot[indices,:]\n",
        "plt.plot(losses)"
      ],
      "id": "49754891"
    },
    {
      "cell_type": "code",
      "execution_count": 10,
      "metadata": {
        "colab": {
          "base_uri": "https://localhost:8080/"
        },
        "id": "a4f274c6",
        "outputId": "a324619d-b391-4873-aa82-da20412c37b6"
      },
      "outputs": [
        {
          "output_type": "execute_result",
          "data": {
            "text/plain": [
              "0.4797666666666667"
            ]
          },
          "metadata": {},
          "execution_count": 10
        }
      ],
      "source": [
        "accuracy(model, x_train, y_train)"
      ],
      "id": "a4f274c6"
    },
    {
      "cell_type": "markdown",
      "metadata": {
        "id": "a2dd5728"
      },
      "source": [
        "---\n",
        "\n",
        "# Homework: improve the accuracy of this model. "
      ],
      "id": "a2dd5728"
    },
    {
      "cell_type": "markdown",
      "metadata": {
        "id": "faaf0515"
      },
      "source": [
        "Update this notebook so that the accuracy is improved. How high can you get it? You could change things directly in the notebook, such as increasing the number of epochs, changing the learning weight, changing the width of the hidden layer, etc. If you're more ambitious, you could also try changing the model definition itself by checking out the associated Python files. For example, you could add more layers to the network. The current notebook has a training accuracy of about 43%, but will vary with randomness.\n",
        "\n",
        "---\n",
        "\n"
      ],
      "id": "faaf0515"
    },
    {
      "cell_type": "code",
      "execution_count": 11,
      "metadata": {
        "id": "tRhz7Ejv9ffd",
        "colab": {
          "base_uri": "https://localhost:8080/",
          "height": 1000
        },
        "outputId": "713ffc69-b74e-4c0f-d12a-e9153df88b3a"
      },
      "outputs": [
        {
          "output_type": "stream",
          "name": "stdout",
          "text": [
            "epoch 0, loss 2.27304, accuracy 0.48\n",
            "epoch 1, loss 2.23911, accuracy 0.57\n",
            "epoch 2, loss 2.18100, accuracy 0.60\n",
            "epoch 3, loss 2.09825, accuracy 0.62\n",
            "epoch 4, loss 2.00459, accuracy 0.65\n",
            "epoch 5, loss 1.83630, accuracy 0.67\n",
            "epoch 6, loss 1.70792, accuracy 0.70\n",
            "epoch 7, loss 1.55742, accuracy 0.72\n",
            "epoch 8, loss 1.34479, accuracy 0.74\n",
            "epoch 9, loss 1.20414, accuracy 0.76\n",
            "epoch 10, loss 1.11504, accuracy 0.78\n",
            "epoch 11, loss 1.03375, accuracy 0.79\n",
            "epoch 12, loss 0.92201, accuracy 0.81\n",
            "epoch 13, loss 0.84558, accuracy 0.81\n",
            "epoch 14, loss 0.80863, accuracy 0.82\n",
            "epoch 15, loss 0.76536, accuracy 0.83\n",
            "epoch 16, loss 0.71658, accuracy 0.83\n",
            "epoch 17, loss 0.67066, accuracy 0.84\n",
            "epoch 18, loss 0.60544, accuracy 0.84\n",
            "epoch 19, loss 0.59714, accuracy 0.85\n",
            "epoch 20, loss 0.61464, accuracy 0.85\n",
            "epoch 21, loss 0.57891, accuracy 0.86\n",
            "epoch 22, loss 0.57876, accuracy 0.86\n",
            "epoch 23, loss 0.52203, accuracy 0.86\n",
            "epoch 24, loss 0.51441, accuracy 0.87\n",
            "epoch 25, loss 0.52046, accuracy 0.87\n",
            "epoch 26, loss 0.54686, accuracy 0.87\n",
            "epoch 27, loss 0.47821, accuracy 0.87\n",
            "epoch 28, loss 0.49030, accuracy 0.88\n",
            "epoch 29, loss 0.47157, accuracy 0.88\n",
            "epoch 30, loss 0.51655, accuracy 0.88\n",
            "epoch 31, loss 0.46758, accuracy 0.88\n",
            "epoch 32, loss 0.47807, accuracy 0.88\n",
            "epoch 33, loss 0.41475, accuracy 0.88\n",
            "epoch 34, loss 0.47743, accuracy 0.88\n",
            "epoch 35, loss 0.43665, accuracy 0.88\n",
            "epoch 36, loss 0.41745, accuracy 0.89\n",
            "epoch 37, loss 0.43500, accuracy 0.89\n",
            "epoch 38, loss 0.39333, accuracy 0.89\n",
            "epoch 39, loss 0.40355, accuracy 0.89\n",
            "epoch 40, loss 0.40872, accuracy 0.89\n",
            "epoch 41, loss 0.41600, accuracy 0.89\n",
            "epoch 42, loss 0.39475, accuracy 0.89\n",
            "epoch 43, loss 0.47168, accuracy 0.89\n",
            "epoch 44, loss 0.42067, accuracy 0.89\n",
            "epoch 45, loss 0.36589, accuracy 0.89\n",
            "epoch 46, loss 0.41277, accuracy 0.89\n",
            "epoch 47, loss 0.36748, accuracy 0.89\n",
            "epoch 48, loss 0.33962, accuracy 0.90\n",
            "epoch 49, loss 0.35413, accuracy 0.90\n"
          ]
        },
        {
          "output_type": "display_data",
          "data": {
            "text/plain": [
              "<Figure size 432x288 with 1 Axes>"
            ],
            "image/png": "[encoded data removed]"
          },
          "metadata": {
            "needs_background": "light"
          }
        }
      ],
      "source": [
        "# To achieve better accuracy, we may use \n",
        "# 1. model with better capability (wider hidden layer or deeper networks) - Here, as we use TwoLayerNet, I choose to increase the number of hidden features\n",
        "# 2. smaller batch size - We used 10000 as a batch size, but we may reduce the size of batch. I choose to use 1000\n",
        "# 3. proper learning rate - But this is hard to find, so I choose to not change it\n",
        "# 4. increase the epoch - I change the number of epochs to 50\n",
        "\n",
        "# Define the model with wider hidden layer\n",
        "\n",
        "model = TwoLayerNet(input_dim=num_features, hidden_dim=500, num_classes=nb_classes, weight_scale=.01)\n",
        "\n",
        "\n",
        "learning_rate = 0.01  \n",
        "num_examples = x_train.shape[0]\n",
        "batch_size = 1000\n",
        "num_batches = int(num_examples / batch_size)\n",
        "num_epochs = 50\n",
        "losses = numpy.zeros(num_batches*num_epochs,)\n",
        "indices = numpy.arange(num_examples)\n",
        "\n",
        "i = 0\n",
        "for epoch in range(0, num_epochs):\n",
        "    # in each epoch, we loop over all of the training examples\n",
        "    for step in range(0, num_batches):\n",
        "        # grabbing the next batch\n",
        "        offset = step * batch_size\n",
        "        batch_range = range(offset, offset+batch_size)\n",
        "        x_train_batch = x_train[batch_range, :]\n",
        "        y_train_batch = y_train_onehot[batch_range,:]\n",
        "        \n",
        "        # feed the next batch in to do one sgd step\n",
        "        loss, model = learn(model, x_train_batch, y_train_batch, learning_rate)\n",
        "        losses[i] = loss\n",
        "        i += 1\n",
        "\n",
        "    acc = accuracy(model, x_train, y_train)\n",
        "    print(\"epoch %d, loss %.5f, accuracy %.2f\" % (epoch, loss, acc))\n",
        "    \n",
        "    # reshuffle the data so that we get a new set of batches\n",
        "    numpy.random.shuffle(indices)\n",
        "    x_train = x_train[indices,:]\n",
        "    y_train = y_train[indices] # keep this shuffled the same way for use in accuracy calculation\n",
        "    y_train_onehot = y_train_onehot[indices,:]\n",
        "plt.plot(losses)\n",
        "plt.show()\n",
        "\n"
      ],
      "id": "tRhz7Ejv9ffd"
    },
    {
      "cell_type": "code",
      "execution_count": 12,
      "metadata": {
        "id": "Hb8KV2WJApwd",
        "colab": {
          "base_uri": "https://localhost:8080/"
        },
        "outputId": "ae6ab45b-6ad3-45d8-a3ac-163f5c36936e"
      },
      "outputs": [
        {
          "output_type": "stream",
          "name": "stdout",
          "text": [
            "==================================================\n",
            "Train Accuracy : 0.8955666666666666\n",
            "Test Accuracy : 0.8995\n",
            "==================================================\n"
          ]
        }
      ],
      "source": [
        "print('=' * 50)\n",
        "print('Train Accuracy : {0}'.format(accuracy(model, x_train, y_train)))\n",
        "print('Test Accuracy : {0}'.format(accuracy(model, x_test, y_test)))\n",
        "print('=' * 50)"
      ],
      "id": "Hb8KV2WJApwd"
    }
  ],
  "metadata": {
    "colab": {
      "collapsed_sections": [],
      "provenance": [],
      "include_colab_link": true
    },
    "kernelspec": {
      "display_name": "Python 3 (ipykernel)",
      "language": "python",
      "name": "python3"
    },
    "language_info": {
      "codemirror_mode": {
        "name": "ipython",
        "version": 3
      },
      "file_extension": ".py",
      "mimetype": "text/x-python",
      "name": "python",
      "nbconvert_exporter": "python",
      "pygments_lexer": "ipython3",
      "version": "3.7.4"
    }
  },
  "nbformat": 4,
  "nbformat_minor": 5
}
