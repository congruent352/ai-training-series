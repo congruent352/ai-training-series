{
  "cells": [
    {
      "cell_type": "markdown",
      "metadata": {
        "id": "view-in-github",
        "colab_type": "text"
      },
      "source": [
        "<a href=\"https://colab.research.google.com/github/congruent352/ai-training-series/blob/main/Argonne_HW3.ipynb\" target=\"_parent\"><img src=\"https://colab.research.google.com/assets/colab-badge.svg\" alt=\"Open In Colab\"/></a>"
      ]
    },
    {
      "cell_type": "markdown",
      "metadata": {
        "id": "XL8nqY8xKkEJ"
      },
      "source": [
        "# CIFAR-10 dataset classification with CNNs\n",
        "\n",
        "Author: Tanwi Mallick, adapting codes from Bethany Lusch, Prasanna Balprakash, Corey Adams, and Kyle Felker\n",
        "\n",
        "In this notebook, we'll continue the CIFAR-10 problem using the Keras API (as included in the TensorFlow library) and incorporating convolutional layers.\n",
        "\n",
        "First, the needed imports."
      ]
    },
    {
      "cell_type": "code",
      "execution_count": 1,
      "metadata": {
        "id": "oFaOHQ7UKkEK"
      },
      "outputs": [],
      "source": [
        "%matplotlib inline\n",
        "\n",
        "import tensorflow as tf\n",
        "\n",
        "import numpy\n",
        "import matplotlib.pyplot as plt\n",
        "import time"
      ]
    },
    {
      "cell_type": "markdown",
      "metadata": {
        "id": "cHn9HP-oKkEL"
      },
      "source": [
        "## CIFAR-10 data set\n",
        "\n",
        "Again we'll load the cifar10 data set. CIFAR-10 dataset contains 32x32 color images from 10 classes: airplane, automobile, bird, cat, deer, dog, frog, horse, ship, truck. If you haven't downloaded it already, it could take a while."
      ]
    },
    {
      "cell_type": "code",
      "execution_count": 2,
      "metadata": {
        "id": "0tH6JeT1KkEM"
      },
      "outputs": [],
      "source": [
        "(x_train, y_train), (x_test, y_test) = tf.keras.datasets.cifar10.load_data()\n",
        "x_train = x_train.astype(numpy.float32)\n",
        "x_test  = x_test.astype(numpy.float32)\n",
        "\n",
        "x_train /= 255.\n",
        "x_test  /= 255.\n",
        "\n",
        "y_train = y_train.astype(numpy.int32)\n",
        "y_test  = y_test.astype(numpy.int32)"
      ]
    },
    {
      "cell_type": "markdown",
      "metadata": {
        "id": "m4kEmrNyKkEM"
      },
      "source": [
        "This time we won't flatten the images. \n",
        "\n",
        "The training data (`X_train`) is a 3rd-order tensor of size (50000, 32, 32), i.e. it consists of 50000 images of size 32x32 pixels. \n",
        "\n",
        "`y_train` is a 50000-dimensional vector containing the correct classes ('airplane', 'automobile', 'bird', 'cat', 'deer', 'dog', 'frog', 'horse', 'ship', 'truck') for each training sample."
      ]
    },
    {
      "cell_type": "markdown",
      "metadata": {
        "id": "mBbmm7aAKkEM"
      },
      "source": [
        "## Convolutional neural network (CNN)\n",
        "\n",
        "CNN is a type of deep learning model for processing data that has a grid pattern, such as images.\n",
        "\n",
        "Let's use a small model that includes convolutional layers\n",
        "\n",
        "- The Conv2D layers operate on 2D matrices so we input the images directly to the model.\n",
        "    - The two Conv2D layers below learn 32 and 64 filters respectively. \n",
        "    - They are learning filters for 3x3 windows.\n",
        "- The MaxPooling2D layer reduces the spatial dimensions, that is, makes the image smaller.\n",
        "    - It downsamples by taking the maximum value in the window \n",
        "    - The pool size of (2, 2) below means the windows are 2x2. \n",
        "    - Helps in extracting important features and reduce computation\n",
        "- The Flatten layer flattens the 2D matrices into vectors, so we can then switch to Dense layers as in the MLP model.\n",
        "\n",
        "See https://keras.io/layers/convolutional/, https://keras.io/layers/pooling/ for more information."
      ]
    },
    {
      "cell_type": "markdown",
      "metadata": {
        "id": "T1KQojpVKkEM"
      },
      "source": [
        "![conv layer](https://github.com/argonne-lcf/ai-science-training-series/blob/main/03_neural_networks_tensorflow/images/conv_layer.png?raw=1)\n",
        "Image credit: [Jason Brownlee](https://machinelearningmastery.com/convolutional-layers-for-deep-learning-neural-networks/)"
      ]
    },
    {
      "cell_type": "markdown",
      "metadata": {
        "id": "AnolK0U9KkEM"
      },
      "source": [
        "![conv layer](https://github.com/argonne-lcf/ai-science-training-series/blob/main/03_neural_networks_tensorflow/images/conv.png?raw=1)\n",
        "Image credit: [Anh H. Reynolds](https://anhreynolds.com/blogs/cnn.html)"
      ]
    },
    {
      "cell_type": "markdown",
      "metadata": {
        "id": "cS2c8uHLKkEN"
      },
      "source": [
        "\n",
        "<img src=\"https://github.com/argonne-lcf/ai-science-training-series/blob/main/03_neural_networks_tensorflow/images/MaxpoolSample2.png?raw=1\" width=\"600\" hight=\"600\" align=\"left\"/>"
      ]
    },
    {
      "cell_type": "code",
      "execution_count": 3,
      "metadata": {
        "id": "Mg1YomRuKkEN"
      },
      "outputs": [],
      "source": [
        "class CIFAR10Classifier(tf.keras.models.Model):\n",
        "\n",
        "    def __init__(self, activation=tf.nn.tanh):\n",
        "        tf.keras.models.Model.__init__(self)\n",
        "\n",
        "        self.conv_1 = tf.keras.layers.Conv2D(32, [3, 3], activation='relu')\n",
        "        self.conv_2 = tf.keras.layers.Conv2D(64, [3, 3], activation='relu')\n",
        "        self.pool_3 = tf.keras.layers.MaxPooling2D(pool_size=(2, 2))\n",
        "        self.drop_4 = tf.keras.layers.Dropout(0.25)\n",
        "        self.dense_5 = tf.keras.layers.Dense(128, activation='relu')\n",
        "        self.drop_6 = tf.keras.layers.Dropout(0.5)\n",
        "        self.dense_7 = tf.keras.layers.Dense(10, activation='softmax')\n",
        "\n",
        "    def call(self, inputs):\n",
        "\n",
        "        x = self.conv_1(inputs)\n",
        "        x = self.conv_2(x)\n",
        "        x = self.pool_3(x)\n",
        "        x = self.drop_4(x)\n",
        "        x = tf.keras.layers.Flatten()(x)\n",
        "        x = self.dense_5(x)\n",
        "        x = self.drop_6(x)\n",
        "        x = self.dense_7(x)\n",
        "\n",
        "        return x"
      ]
    },
    {
      "cell_type": "markdown",
      "metadata": {
        "id": "E5qBQGdwKkEN"
      },
      "source": [
        "### Simple training"
      ]
    },
    {
      "cell_type": "markdown",
      "metadata": {
        "id": "0g_u6cgcKkEO"
      },
      "source": [
        "Here is a concise way to train the network, like we did in the previous notebook. We'll see a more verbose approach below that allows more performance tuning."
      ]
    },
    {
      "cell_type": "code",
      "execution_count": 4,
      "metadata": {
        "id": "dT_7_qrBKkEO"
      },
      "outputs": [],
      "source": [
        "def train_network_concise(_batch_size, _n_training_epochs, _lr):\n",
        "\n",
        "    cnn_model = CIFAR10Classifier()\n",
        "\n",
        "    cnn_model.compile(loss=\"sparse_categorical_crossentropy\", optimizer=\"adam\", metrics=['accuracy'])\n",
        "    \n",
        "    history = cnn_model.fit(x_train, y_train, batch_size=_batch_size, epochs=_n_training_epochs)\n",
        "    return history, cnn_model"
      ]
    },
    {
      "cell_type": "code",
      "execution_count": 5,
      "metadata": {
        "id": "ScflXGAgKkEO",
        "outputId": "77ba2ae0-c637-4701-9137-aa0a3effa757",
        "colab": {
          "base_uri": "https://localhost:8080/"
        }
      },
      "outputs": [
        {
          "output_type": "stream",
          "name": "stdout",
          "text": [
            "Epoch 1/3\n",
            "98/98 [==============================] - 9s 40ms/step - loss: 1.7660 - accuracy: 0.3595\n",
            "Epoch 2/3\n",
            "98/98 [==============================] - 3s 31ms/step - loss: 1.4183 - accuracy: 0.4935\n",
            "Epoch 3/3\n",
            "98/98 [==============================] - 3s 31ms/step - loss: 1.2811 - accuracy: 0.5470\n"
          ]
        }
      ],
      "source": [
        "# This took 43 seconds per epoch on my laptop\n",
        "batch_size = 512\n",
        "epochs = 3\n",
        "lr = .01\n",
        "history, cnn_model = train_network_concise(batch_size, epochs, lr)"
      ]
    },
    {
      "cell_type": "markdown",
      "metadata": {
        "id": "Ly75nq6MKkEO"
      },
      "source": [
        "Accuracy for test data.  The model should be better than the non-convolutional model even if you're only patient enough for three epochs. "
      ]
    },
    {
      "cell_type": "code",
      "execution_count": 6,
      "metadata": {
        "id": "RVQHqxHtKkEP",
        "outputId": "ed7e5bc9-9a23-49a5-8a9d-eac2876f3012",
        "colab": {
          "base_uri": "https://localhost:8080/",
          "height": 437
        }
      },
      "outputs": [
        {
          "output_type": "display_data",
          "data": {
            "text/plain": [
              "<Figure size 360x216 with 1 Axes>"
            ],
            "image/png": "[encoded data removed]"
          },
          "metadata": {
            "needs_background": "light"
          }
        },
        {
          "output_type": "display_data",
          "data": {
            "text/plain": [
              "<Figure size 360x216 with 1 Axes>"
            ],
            "image/png": "[encoded data removed]"
          },
          "metadata": {
            "needs_background": "light"
          }
        }
      ],
      "source": [
        "plt.figure(figsize=(5,3))\n",
        "plt.plot(history.epoch,history.history['loss'])\n",
        "plt.title('loss')\n",
        "\n",
        "plt.figure(figsize=(5,3))\n",
        "plt.plot(history.epoch,history.history['accuracy'])\n",
        "plt.title('accuracy');"
      ]
    },
    {
      "cell_type": "markdown",
      "metadata": {
        "id": "kRL1BE-5KkEP"
      },
      "source": [
        "### Inference"
      ]
    },
    {
      "cell_type": "markdown",
      "metadata": {
        "id": "ZdcPzfvPKkEP"
      },
      "source": [
        "With enough training epochs, the test accuracy should exceed 96.53%.\n",
        "\n",
        "You can compare your result with the state-of-the art [here](http://rodrigob.github.io/are_we_there_yet/build/classification_datasets_results.html). "
      ]
    },
    {
      "cell_type": "code",
      "execution_count": 7,
      "metadata": {
        "id": "3qEOAJ12KkEP",
        "outputId": "2956dda3-1ac1-42dd-ff62-c41c1615d58c",
        "colab": {
          "base_uri": "https://localhost:8080/"
        }
      },
      "outputs": [
        {
          "output_type": "stream",
          "name": "stdout",
          "text": [
            "313/313 - 1s - loss: 1.1454 - accuracy: 0.5970 - 1s/epoch - 3ms/step\n",
            "accuracy: 59.70%\n",
            "CPU times: user 1.24 s, sys: 179 ms, total: 1.42 s\n",
            "Wall time: 1.28 s\n"
          ]
        }
      ],
      "source": [
        "%%time\n",
        "x_test_reshaped = numpy.expand_dims(x_test, -1)\n",
        "scores = cnn_model.evaluate(x_test, y_test, verbose=2)\n",
        "print(\"%s: %.2f%%\" % (cnn_model.metrics_names[1], scores[1]*100))"
      ]
    },
    {
      "cell_type": "markdown",
      "metadata": {
        "id": "dhWKigdnKkEP"
      },
      "source": [
        "We can also again check the confusion matrix"
      ]
    },
    {
      "cell_type": "code",
      "execution_count": 8,
      "metadata": {
        "id": "TkTJik77KkEP",
        "outputId": "e1757e6c-10dc-4ae8-ddf4-d0dfe63abc88",
        "colab": {
          "base_uri": "https://localhost:8080/"
        }
      },
      "outputs": [
        {
          "output_type": "stream",
          "name": "stdout",
          "text": [
            "Confusion matrix (rows: true classes; columns: predicted classes):\n",
            "\n",
            "313/313 [==============================] - 1s 2ms/step\n",
            "[[647  14  90  22  10   5  22   4 158  28]\n",
            " [ 36 685  10  13   5   2  20   8 107 114]\n",
            " [ 76   5 519  71  91  63 117  21  26  11]\n",
            " [ 17   5 136 447  56 121 158  20  26  14]\n",
            " [ 32   3 203  70 433  24 172  43  15   5]\n",
            " [ 11   4 132 236  47 448  68  37  16   1]\n",
            " [  4   4  60  54  24   9 823   5  11   6]\n",
            " [ 19   3  76  72  89  69  48 592  11  21]\n",
            " [ 94  39  24  22   4   5  12   4 774  22]\n",
            " [ 43 115  21  28   4   6  39  23 119 602]]\n",
            "\n",
            "Classification accuracy for each class:\n",
            "\n",
            "0: 0.6470\n",
            "1: 0.6850\n",
            "2: 0.5190\n",
            "3: 0.4470\n",
            "4: 0.4330\n",
            "5: 0.4480\n",
            "6: 0.8230\n",
            "7: 0.5920\n",
            "8: 0.7740\n",
            "9: 0.6020\n"
          ]
        }
      ],
      "source": [
        "from sklearn.metrics import confusion_matrix\n",
        "\n",
        "print('Confusion matrix (rows: true classes; columns: predicted classes):'); print()\n",
        "predictions = cnn_model.predict(x_test)\n",
        "cm=confusion_matrix(y_test, numpy.argmax(predictions, axis=1), labels=list(range(10)))\n",
        "print(cm); print()\n",
        "\n",
        "print('Classification accuracy for each class:'); print()\n",
        "for i,j in enumerate(cm.diagonal()/cm.sum(axis=1)): print(\"%d: %.4f\" % (i,j))"
      ]
    },
    {
      "cell_type": "markdown",
      "metadata": {
        "id": "YQQb6gxRKkEQ"
      },
      "source": [
        "### More verbose training"
      ]
    },
    {
      "cell_type": "markdown",
      "metadata": {
        "id": "XwRLJfj9KkEQ"
      },
      "source": [
        "This approach explicitly handles the looping over data. It will be helpful in future weeks for diving in and optimizing"
      ]
    },
    {
      "cell_type": "code",
      "execution_count": 9,
      "metadata": {
        "id": "YDmWA-FRKkEQ"
      },
      "outputs": [],
      "source": [
        "def compute_loss(y_true, y_pred):\n",
        "    # if labels are integers, use sparse categorical crossentropy\n",
        "    # network's final layer is softmax, so from_logtis=False\n",
        "    scce = tf.keras.losses.SparseCategoricalCrossentropy(from_logits=False)\n",
        "    # if labels are one-hot encoded, use standard crossentropy\n",
        "\n",
        "    return scce(y_true, y_pred)  "
      ]
    },
    {
      "cell_type": "code",
      "execution_count": 10,
      "metadata": {
        "id": "nZT4gZFyKkEQ"
      },
      "outputs": [],
      "source": [
        "def forward_pass(model, batch_data, y_true):\n",
        "    y_pred = model(batch_data)\n",
        "    loss = compute_loss(y_true, y_pred)\n",
        "    return loss"
      ]
    },
    {
      "cell_type": "code",
      "execution_count": 11,
      "metadata": {
        "id": "5yxKzWGyKkEQ"
      },
      "outputs": [],
      "source": [
        "# Here is a function that will manage the training loop for us:\n",
        "\n",
        "def train_loop(batch_size, n_training_epochs, model, opt):\n",
        "    \n",
        "    @tf.function()\n",
        "    def train_iteration(data, y_true, model, opt):\n",
        "        with tf.GradientTape() as tape:\n",
        "            loss = forward_pass(model, data, y_true)\n",
        "\n",
        "        trainable_vars = model.trainable_variables\n",
        "\n",
        "        # Apply the update to the network (one at a time):\n",
        "        grads = tape.gradient(loss, trainable_vars)\n",
        "\n",
        "        opt.apply_gradients(zip(grads, trainable_vars))\n",
        "        return loss\n",
        "\n",
        "    for i_epoch in range(n_training_epochs):\n",
        "        print(\"beginning epoch %d\" % i_epoch)\n",
        "        start = time.time()\n",
        "\n",
        "        epoch_steps = int(50000/batch_size)\n",
        "        dataset.shuffle(50000) # Shuffle the whole dataset in memory\n",
        "        batches = dataset.batch(batch_size=batch_size, drop_remainder=True)\n",
        "        \n",
        "        for i_batch, (batch_data, y_true) in enumerate(batches):\n",
        "            batch_data = tf.reshape(batch_data, [-1, 32, 32, 3])\n",
        "            loss = train_iteration(batch_data, y_true, model, opt)\n",
        "            \n",
        "        end = time.time()\n",
        "        print(\"took %1.1f seconds for epoch #%d\" % (end-start, i_epoch))"
      ]
    },
    {
      "cell_type": "code",
      "execution_count": 12,
      "metadata": {
        "id": "NrtpL_4EKkEQ"
      },
      "outputs": [],
      "source": [
        "def train_network(_batch_size, _n_training_epochs, _lr):\n",
        "\n",
        "    cifar_model = CIFAR10Classifier()\n",
        "\n",
        "    opt = tf.keras.optimizers.Adam(_lr)\n",
        "\n",
        "    train_loop(_batch_size, _n_training_epochs, cifar_model, opt)"
      ]
    },
    {
      "cell_type": "code",
      "execution_count": 13,
      "metadata": {
        "id": "Ar-eEwdmKkER",
        "outputId": "cc71a4d9-ddc6-45fa-b208-daed2b2f4e3f",
        "colab": {
          "base_uri": "https://localhost:8080/"
        }
      },
      "outputs": [
        {
          "output_type": "stream",
          "name": "stdout",
          "text": [
            "beginning epoch 0\n",
            "took 3.2 seconds for epoch #0\n",
            "beginning epoch 1\n",
            "took 2.7 seconds for epoch #1\n",
            "beginning epoch 2\n",
            "took 2.7 seconds for epoch #2\n"
          ]
        }
      ],
      "source": [
        "dataset = tf.data.Dataset.from_tensor_slices((x_train, y_train))\n",
        "dataset.shuffle(50000)\n",
        "\n",
        "batch_size = 512\n",
        "epochs = 3\n",
        "lr = .01\n",
        "train_network(batch_size, epochs, lr)"
      ]
    },
    {
      "cell_type": "markdown",
      "metadata": {
        "id": "Xa36cvOmKkER"
      },
      "source": [
        "# Homework: improve the accuracy of this model"
      ]
    },
    {
      "cell_type": "markdown",
      "metadata": {
        "id": "__XixK1hKkER"
      },
      "source": [
        "Update this notebook to ensure more accuracy. How high can it be raised? Changes like increasing the number of epochs, altering the learning rate, altering the number of neurons the hidden layer, chnaging the optimizer, etc. could be made directly in the notebook. You can also change the model specification by expanding the network's layer. The current notebook's training accuracy is roughly 58.06%, although it varies randomly."
      ]
    },
    {
      "cell_type": "code",
      "execution_count": 14,
      "metadata": {
        "id": "IsEzxDQ-KkER",
        "colab": {
          "base_uri": "https://localhost:8080/"
        },
        "outputId": "54e358eb-3a6f-488e-f3ec-9720fd8aa424"
      },
      "outputs": [
        {
          "output_type": "stream",
          "name": "stdout",
          "text": [
            "Epoch 1/50\n",
            "782/782 [==============================] - 5s 6ms/step - loss: 1.6350 - accuracy: 0.4081\n",
            "Epoch 2/50\n",
            "782/782 [==============================] - 5s 6ms/step - loss: 1.2679 - accuracy: 0.5458\n",
            "Epoch 3/50\n",
            "782/782 [==============================] - 5s 6ms/step - loss: 1.1351 - accuracy: 0.5971\n",
            "Epoch 4/50\n",
            "782/782 [==============================] - 5s 6ms/step - loss: 1.0405 - accuracy: 0.6316\n",
            "Epoch 5/50\n",
            "782/782 [==============================] - 5s 6ms/step - loss: 0.9604 - accuracy: 0.6577\n",
            "Epoch 6/50\n",
            "782/782 [==============================] - 5s 6ms/step - loss: 0.8992 - accuracy: 0.6808\n",
            "Epoch 7/50\n",
            "782/782 [==============================] - 5s 6ms/step - loss: 0.8442 - accuracy: 0.6959\n",
            "Epoch 8/50\n",
            "782/782 [==============================] - 5s 6ms/step - loss: 0.7985 - accuracy: 0.7133\n",
            "Epoch 9/50\n",
            "782/782 [==============================] - 5s 6ms/step - loss: 0.7584 - accuracy: 0.7269\n",
            "Epoch 10/50\n",
            "782/782 [==============================] - 5s 6ms/step - loss: 0.7230 - accuracy: 0.7400\n",
            "Epoch 11/50\n",
            "782/782 [==============================] - 5s 6ms/step - loss: 0.6859 - accuracy: 0.7517\n",
            "Epoch 12/50\n",
            "782/782 [==============================] - 7s 9ms/step - loss: 0.6545 - accuracy: 0.7617\n",
            "Epoch 13/50\n",
            "782/782 [==============================] - 5s 6ms/step - loss: 0.6257 - accuracy: 0.7740\n",
            "Epoch 14/50\n",
            "782/782 [==============================] - 5s 6ms/step - loss: 0.6066 - accuracy: 0.7797\n",
            "Epoch 15/50\n",
            "782/782 [==============================] - 5s 6ms/step - loss: 0.5878 - accuracy: 0.7843\n",
            "Epoch 16/50\n",
            "782/782 [==============================] - 5s 6ms/step - loss: 0.5607 - accuracy: 0.7955\n",
            "Epoch 17/50\n",
            "782/782 [==============================] - 5s 6ms/step - loss: 0.5356 - accuracy: 0.8032\n",
            "Epoch 18/50\n",
            "782/782 [==============================] - 5s 6ms/step - loss: 0.5267 - accuracy: 0.8079\n",
            "Epoch 19/50\n",
            "782/782 [==============================] - 5s 6ms/step - loss: 0.5118 - accuracy: 0.8128\n",
            "Epoch 20/50\n",
            "782/782 [==============================] - 6s 7ms/step - loss: 0.4834 - accuracy: 0.8226\n",
            "Epoch 21/50\n",
            "782/782 [==============================] - 5s 6ms/step - loss: 0.4779 - accuracy: 0.8247\n",
            "Epoch 22/50\n",
            "782/782 [==============================] - 5s 6ms/step - loss: 0.4672 - accuracy: 0.8262\n",
            "Epoch 23/50\n",
            "782/782 [==============================] - 5s 6ms/step - loss: 0.4529 - accuracy: 0.8324\n",
            "Epoch 24/50\n",
            "782/782 [==============================] - 5s 6ms/step - loss: 0.4502 - accuracy: 0.8350\n",
            "Epoch 25/50\n",
            "782/782 [==============================] - 5s 6ms/step - loss: 0.4359 - accuracy: 0.8375\n",
            "Epoch 26/50\n",
            "782/782 [==============================] - 5s 6ms/step - loss: 0.4262 - accuracy: 0.8446\n",
            "Epoch 27/50\n",
            "782/782 [==============================] - 5s 6ms/step - loss: 0.4195 - accuracy: 0.8453\n",
            "Epoch 28/50\n",
            "782/782 [==============================] - 5s 7ms/step - loss: 0.4063 - accuracy: 0.8500\n",
            "Epoch 29/50\n",
            "782/782 [==============================] - 5s 6ms/step - loss: 0.4029 - accuracy: 0.8525\n",
            "Epoch 30/50\n",
            "782/782 [==============================] - 5s 6ms/step - loss: 0.3953 - accuracy: 0.8545\n",
            "Epoch 31/50\n",
            "782/782 [==============================] - 5s 6ms/step - loss: 0.3916 - accuracy: 0.8556\n",
            "Epoch 32/50\n",
            "782/782 [==============================] - 5s 6ms/step - loss: 0.3826 - accuracy: 0.8593\n",
            "Epoch 33/50\n",
            "782/782 [==============================] - 5s 6ms/step - loss: 0.3782 - accuracy: 0.8618\n",
            "Epoch 34/50\n",
            "782/782 [==============================] - 5s 6ms/step - loss: 0.3671 - accuracy: 0.8627\n",
            "Epoch 35/50\n",
            "782/782 [==============================] - 5s 6ms/step - loss: 0.3571 - accuracy: 0.8691\n",
            "Epoch 36/50\n",
            "782/782 [==============================] - 5s 6ms/step - loss: 0.3632 - accuracy: 0.8663\n",
            "Epoch 37/50\n",
            "782/782 [==============================] - 5s 6ms/step - loss: 0.3492 - accuracy: 0.8721\n",
            "Epoch 38/50\n",
            "782/782 [==============================] - 5s 6ms/step - loss: 0.3493 - accuracy: 0.8726\n",
            "Epoch 39/50\n",
            "782/782 [==============================] - 5s 6ms/step - loss: 0.3453 - accuracy: 0.8735\n",
            "Epoch 40/50\n",
            "782/782 [==============================] - 5s 6ms/step - loss: 0.3368 - accuracy: 0.8762\n",
            "Epoch 41/50\n",
            "782/782 [==============================] - 5s 6ms/step - loss: 0.3355 - accuracy: 0.8778\n",
            "Epoch 42/50\n",
            "782/782 [==============================] - 5s 6ms/step - loss: 0.3295 - accuracy: 0.8793\n",
            "Epoch 43/50\n",
            "782/782 [==============================] - 5s 6ms/step - loss: 0.3253 - accuracy: 0.8802\n",
            "Epoch 44/50\n",
            "782/782 [==============================] - 5s 6ms/step - loss: 0.3219 - accuracy: 0.8796\n",
            "Epoch 45/50\n",
            "782/782 [==============================] - 6s 7ms/step - loss: 0.3171 - accuracy: 0.8838\n",
            "Epoch 46/50\n",
            "782/782 [==============================] - 5s 6ms/step - loss: 0.3156 - accuracy: 0.8838\n",
            "Epoch 47/50\n",
            "782/782 [==============================] - 5s 6ms/step - loss: 0.3097 - accuracy: 0.8859\n",
            "Epoch 48/50\n",
            "782/782 [==============================] - 5s 6ms/step - loss: 0.3075 - accuracy: 0.8858\n",
            "Epoch 49/50\n",
            "782/782 [==============================] - 5s 6ms/step - loss: 0.3046 - accuracy: 0.8889\n",
            "Epoch 50/50\n",
            "782/782 [==============================] - 5s 6ms/step - loss: 0.3038 - accuracy: 0.8884\n"
          ]
        }
      ],
      "source": [
        "# To increase the accuracy, we could\n",
        "# 1. change the network -> I choose to initialize the kernels\n",
        "# 2. decrease the batch size\n",
        "# 3. increase the number of epochs\n",
        "\n",
        "# Or we have many different options, including using wider hidden layers and using deeper network, changing the learning rate, changing the optimizer etc,\n",
        "# but here, I tried only three strategies above.\n",
        "\n",
        "tf.random.set_seed(seed=1234)\n",
        "\n",
        "class HWClassifier(tf.keras.models.Model):\n",
        "\n",
        "    def __init__(self, activation=tf.nn.tanh):\n",
        "        tf.keras.models.Model.__init__(self)\n",
        "\n",
        "        self.conv_1 = tf.keras.layers.Conv2D(32, [3, 3], activation='relu', kernel_initializer = 'he_uniform')\n",
        "        self.conv_2 = tf.keras.layers.Conv2D(64, [3, 3], activation='relu', kernel_initializer = 'he_uniform')\n",
        "        self.pool_3 = tf.keras.layers.MaxPooling2D(pool_size=(2, 2))\n",
        "        self.drop_4 = tf.keras.layers.Dropout(0.25)\n",
        "        self.dense_5 = tf.keras.layers.Dense(128, activation='relu', kernel_initializer='he_uniform')\n",
        "        self.drop_6 = tf.keras.layers.Dropout(0.5)\n",
        "        self.dense_7 = tf.keras.layers.Dense(10, activation='softmax')\n",
        "\n",
        "    def call(self, inputs):\n",
        "\n",
        "        x = self.conv_1(inputs)\n",
        "        x = self.conv_2(x)\n",
        "        x = self.pool_3(x)\n",
        "        x = self.drop_4(x)\n",
        "        x = tf.keras.layers.Flatten()(x)\n",
        "        x = self.dense_5(x)\n",
        "        x = self.drop_6(x)\n",
        "        x = self.dense_7(x)\n",
        "\n",
        "        return x\n",
        "\n",
        "batch_size = 64\n",
        "epochs = 50\n",
        "lr = 1e-2\n",
        "model = HWClassifier()\n",
        "model.compile(loss = \"sparse_categorical_crossentropy\", optimizer = \"adam\", metrics = ['accuracy'])\n",
        "history = model.fit(x_train, y_train, batch_size = batch_size, epochs = epochs)\n",
        "\n"
      ]
    },
    {
      "cell_type": "code",
      "execution_count": 15,
      "metadata": {
        "id": "MRfHf9ihKkES",
        "outputId": "87c6bde3-6f7d-40a0-aa20-32e9ecd904e2",
        "colab": {
          "base_uri": "https://localhost:8080/",
          "height": 545
        }
      },
      "outputs": [
        {
          "output_type": "display_data",
          "data": {
            "text/plain": [
              "<Figure size 432x288 with 1 Axes>"
            ],
            "image/png": "[encoded data removed]"
          },
          "metadata": {
            "needs_background": "light"
          }
        },
        {
          "output_type": "display_data",
          "data": {
            "text/plain": [
              "<Figure size 432x288 with 1 Axes>"
            ],
            "image/png": "[encoded data removed]"
          },
          "metadata": {
            "needs_background": "light"
          }
        }
      ],
      "source": [
        "plt.plot(history.epoch,history.history['loss'])\n",
        "plt.title('loss')\n",
        "plt.show()\n",
        "\n",
        "plt.plot(history.epoch,history.history['accuracy'])\n",
        "plt.title('accuracy')\n",
        "plt.show()"
      ]
    },
    {
      "cell_type": "code",
      "source": [
        "x_test_reshaped = numpy.expand_dims(x_test, -1)\n",
        "test_score = model.evaluate(x_test, y_test, verbose = 0)\n",
        "training_score = model.evaluate(x_train, y_train, verbose = 0)\n",
        "print(\"%s: %.2f%%\" % (model.metrics_names[1], training_score[1]*100))\n",
        "print(\"%s: %.2f%%\" % (model.metrics_names[1], test_score[1]*100))"
      ],
      "metadata": {
        "colab": {
          "base_uri": "https://localhost:8080/"
        },
        "id": "D0TOae6BR26D",
        "outputId": "28ac42f5-c0d7-4d63-91c0-122a966baba0"
      },
      "execution_count": 18,
      "outputs": [
        {
          "output_type": "stream",
          "name": "stdout",
          "text": [
            "accuracy: 99.64%\n",
            "accuracy: 71.64%\n"
          ]
        }
      ]
    }
  ],
  "metadata": {
    "kernelspec": {
      "display_name": "Python 3",
      "language": "python",
      "name": "python3"
    },
    "language_info": {
      "codemirror_mode": {
        "name": "ipython",
        "version": 3
      },
      "file_extension": ".py",
      "mimetype": "text/x-python",
      "name": "python",
      "nbconvert_exporter": "python",
      "pygments_lexer": "ipython3",
      "version": "3.7.3"
    },
    "colab": {
      "provenance": [],
      "collapsed_sections": [],
      "include_colab_link": true
    },
    "accelerator": "GPU",
    "gpuClass": "standard"
  },
  "nbformat": 4,
  "nbformat_minor": 0
}